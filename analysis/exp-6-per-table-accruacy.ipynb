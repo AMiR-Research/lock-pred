{
 "cells": [
  {
   "cell_type": "code",
   "execution_count": 4,
   "metadata": {},
   "outputs": [],
   "source": [
    "import pandas as pd\n",
    "import matplotlib.pyplot as plt\n",
    "import matplotlib.patches as mpatches\n",
    "import seaborn as sns\n",
    "import numpy as np"
   ]
  },
  {
   "cell_type": "code",
   "execution_count": 5,
   "metadata": {},
   "outputs": [],
   "source": [
    "def is_correct(df):\n",
    "    return (df['gt_table'] == df['pred_table']) & (df['gt_pageid'] == df['pred_pageid'])"
   ]
  },
  {
   "cell_type": "code",
   "execution_count": 6,
   "metadata": {},
   "outputs": [],
   "source": [
    "predictions = pd.read_parquet('data/exp-6-row-locks/predictions.parquet')\n",
    "predictions['is_correct'] = is_correct(predictions)\n",
    "predictions['horizon'] = predictions['horizon'].astype(str)\n",
    "\n",
    "in_lock_sequences = pd.read_parquet('data/exp-6-row-locks/in_lock_sequences.parquet')"
   ]
  },
  {
   "cell_type": "code",
   "execution_count": 30,
   "metadata": {},
   "outputs": [
    {
     "data": {
      "text/html": [
       "<div>\n",
       "<style scoped>\n",
       "    .dataframe tbody tr th:only-of-type {\n",
       "        vertical-align: middle;\n",
       "    }\n",
       "\n",
       "    .dataframe tbody tr th {\n",
       "        vertical-align: top;\n",
       "    }\n",
       "\n",
       "    .dataframe thead th {\n",
       "        text-align: right;\n",
       "    }\n",
       "</style>\n",
       "<table border=\"1\" class=\"dataframe\">\n",
       "  <thead>\n",
       "    <tr style=\"text-align: right;\">\n",
       "      <th></th>\n",
       "      <th>in_lock_sequences_id</th>\n",
       "      <th>model</th>\n",
       "      <th>data</th>\n",
       "      <th>train_data_percent_used</th>\n",
       "      <th>epochs</th>\n",
       "      <th>batch_size</th>\n",
       "      <th>learning_rate</th>\n",
       "      <th>seq_length</th>\n",
       "      <th>test_split</th>\n",
       "      <th>val_split</th>\n",
       "      <th>...</th>\n",
       "      <th>disable_cache</th>\n",
       "      <th>model_weights</th>\n",
       "      <th>gt_table</th>\n",
       "      <th>gt_pageid</th>\n",
       "      <th>pred_table</th>\n",
       "      <th>pred_pageid</th>\n",
       "      <th>horizon_position</th>\n",
       "      <th>unique_id</th>\n",
       "      <th>is_correct</th>\n",
       "      <th>iteration</th>\n",
       "    </tr>\n",
       "  </thead>\n",
       "  <tbody>\n",
       "    <tr>\n",
       "      <th>0</th>\n",
       "      <td>1</td>\n",
       "      <td>transformer</td>\n",
       "      <td>data/fixed/row_locks.csv</td>\n",
       "      <td>1.0</td>\n",
       "      <td>30</td>\n",
       "      <td>32</td>\n",
       "      <td>0.001</td>\n",
       "      <td>50</td>\n",
       "      <td>0.3</td>\n",
       "      <td>0.0</td>\n",
       "      <td>...</td>\n",
       "      <td>False</td>\n",
       "      <td>results/fixed/exp-6-row-locks/char__transforme...</td>\n",
       "      <td>orderline</td>\n",
       "      <td>65381</td>\n",
       "      <td>orderline</td>\n",
       "      <td>65381.0</td>\n",
       "      <td>1</td>\n",
       "      <td>f07bf120-fc9b-4e2b-9970-1f4494171032</td>\n",
       "      <td>True</td>\n",
       "      <td>1</td>\n",
       "    </tr>\n",
       "    <tr>\n",
       "      <th>1</th>\n",
       "      <td>2</td>\n",
       "      <td>transformer</td>\n",
       "      <td>data/fixed/row_locks.csv</td>\n",
       "      <td>1.0</td>\n",
       "      <td>30</td>\n",
       "      <td>32</td>\n",
       "      <td>0.001</td>\n",
       "      <td>50</td>\n",
       "      <td>0.3</td>\n",
       "      <td>0.0</td>\n",
       "      <td>...</td>\n",
       "      <td>False</td>\n",
       "      <td>results/fixed/exp-6-row-locks/char__transforme...</td>\n",
       "      <td>stock</td>\n",
       "      <td>2531</td>\n",
       "      <td>stock</td>\n",
       "      <td>37711.0</td>\n",
       "      <td>1</td>\n",
       "      <td>0693c4e8-5795-42cd-8307-cb636d7736a1</td>\n",
       "      <td>False</td>\n",
       "      <td>2</td>\n",
       "    </tr>\n",
       "    <tr>\n",
       "      <th>2</th>\n",
       "      <td>3</td>\n",
       "      <td>transformer</td>\n",
       "      <td>data/fixed/row_locks.csv</td>\n",
       "      <td>1.0</td>\n",
       "      <td>30</td>\n",
       "      <td>32</td>\n",
       "      <td>0.001</td>\n",
       "      <td>50</td>\n",
       "      <td>0.3</td>\n",
       "      <td>0.0</td>\n",
       "      <td>...</td>\n",
       "      <td>False</td>\n",
       "      <td>results/fixed/exp-6-row-locks/char__transforme...</td>\n",
       "      <td>orderline</td>\n",
       "      <td>65381</td>\n",
       "      <td>orderline</td>\n",
       "      <td>65381.0</td>\n",
       "      <td>1</td>\n",
       "      <td>c61b91c0-3652-4cca-bc89-1ad329712175</td>\n",
       "      <td>True</td>\n",
       "      <td>3</td>\n",
       "    </tr>\n",
       "    <tr>\n",
       "      <th>3</th>\n",
       "      <td>4</td>\n",
       "      <td>transformer</td>\n",
       "      <td>data/fixed/row_locks.csv</td>\n",
       "      <td>1.0</td>\n",
       "      <td>30</td>\n",
       "      <td>32</td>\n",
       "      <td>0.001</td>\n",
       "      <td>50</td>\n",
       "      <td>0.3</td>\n",
       "      <td>0.0</td>\n",
       "      <td>...</td>\n",
       "      <td>False</td>\n",
       "      <td>results/fixed/exp-6-row-locks/char__transforme...</td>\n",
       "      <td>stock</td>\n",
       "      <td>77377</td>\n",
       "      <td>stock</td>\n",
       "      <td>21111.0</td>\n",
       "      <td>1</td>\n",
       "      <td>4a42bc36-5f58-4d75-a4f9-b7480b87eaa9</td>\n",
       "      <td>False</td>\n",
       "      <td>4</td>\n",
       "    </tr>\n",
       "    <tr>\n",
       "      <th>4</th>\n",
       "      <td>5</td>\n",
       "      <td>transformer</td>\n",
       "      <td>data/fixed/row_locks.csv</td>\n",
       "      <td>1.0</td>\n",
       "      <td>30</td>\n",
       "      <td>32</td>\n",
       "      <td>0.001</td>\n",
       "      <td>50</td>\n",
       "      <td>0.3</td>\n",
       "      <td>0.0</td>\n",
       "      <td>...</td>\n",
       "      <td>False</td>\n",
       "      <td>results/fixed/exp-6-row-locks/char__transforme...</td>\n",
       "      <td>stock</td>\n",
       "      <td>77377</td>\n",
       "      <td>stock</td>\n",
       "      <td>21111.0</td>\n",
       "      <td>1</td>\n",
       "      <td>1d24bd15-cae7-444e-a1c6-cc60041d7f47</td>\n",
       "      <td>False</td>\n",
       "      <td>5</td>\n",
       "    </tr>\n",
       "  </tbody>\n",
       "</table>\n",
       "<p>5 rows × 36 columns</p>\n",
       "</div>"
      ],
      "text/plain": [
       "   in_lock_sequences_id        model                      data  \\\n",
       "0                     1  transformer  data/fixed/row_locks.csv   \n",
       "1                     2  transformer  data/fixed/row_locks.csv   \n",
       "2                     3  transformer  data/fixed/row_locks.csv   \n",
       "3                     4  transformer  data/fixed/row_locks.csv   \n",
       "4                     5  transformer  data/fixed/row_locks.csv   \n",
       "\n",
       "   train_data_percent_used  epochs  batch_size  learning_rate  seq_length  \\\n",
       "0                      1.0      30          32          0.001          50   \n",
       "1                      1.0      30          32          0.001          50   \n",
       "2                      1.0      30          32          0.001          50   \n",
       "3                      1.0      30          32          0.001          50   \n",
       "4                      1.0      30          32          0.001          50   \n",
       "\n",
       "   test_split  val_split  ...  disable_cache  \\\n",
       "0         0.3        0.0  ...          False   \n",
       "1         0.3        0.0  ...          False   \n",
       "2         0.3        0.0  ...          False   \n",
       "3         0.3        0.0  ...          False   \n",
       "4         0.3        0.0  ...          False   \n",
       "\n",
       "                                       model_weights   gt_table gt_pageid  \\\n",
       "0  results/fixed/exp-6-row-locks/char__transforme...  orderline     65381   \n",
       "1  results/fixed/exp-6-row-locks/char__transforme...      stock      2531   \n",
       "2  results/fixed/exp-6-row-locks/char__transforme...  orderline     65381   \n",
       "3  results/fixed/exp-6-row-locks/char__transforme...      stock     77377   \n",
       "4  results/fixed/exp-6-row-locks/char__transforme...      stock     77377   \n",
       "\n",
       "  pred_table  pred_pageid  horizon_position  \\\n",
       "0  orderline      65381.0                 1   \n",
       "1      stock      37711.0                 1   \n",
       "2  orderline      65381.0                 1   \n",
       "3      stock      21111.0                 1   \n",
       "4      stock      21111.0                 1   \n",
       "\n",
       "                              unique_id  is_correct  iteration  \n",
       "0  f07bf120-fc9b-4e2b-9970-1f4494171032        True          1  \n",
       "1  0693c4e8-5795-42cd-8307-cb636d7736a1       False          2  \n",
       "2  c61b91c0-3652-4cca-bc89-1ad329712175        True          3  \n",
       "3  4a42bc36-5f58-4d75-a4f9-b7480b87eaa9       False          4  \n",
       "4  1d24bd15-cae7-444e-a1c6-cc60041d7f47       False          5  \n",
       "\n",
       "[5 rows x 36 columns]"
      ]
     },
     "execution_count": 30,
     "metadata": {},
     "output_type": "execute_result"
    }
   ],
   "source": [
    "predictions.head()"
   ]
  },
  {
   "cell_type": "code",
   "execution_count": 48,
   "metadata": {},
   "outputs": [
    {
     "data": {
      "text/html": [
       "<div>\n",
       "<style scoped>\n",
       "    .dataframe tbody tr th:only-of-type {\n",
       "        vertical-align: middle;\n",
       "    }\n",
       "\n",
       "    .dataframe tbody tr th {\n",
       "        vertical-align: top;\n",
       "    }\n",
       "\n",
       "    .dataframe thead th {\n",
       "        text-align: right;\n",
       "    }\n",
       "</style>\n",
       "<table border=\"1\" class=\"dataframe\">\n",
       "  <thead>\n",
       "    <tr style=\"text-align: right;\">\n",
       "      <th></th>\n",
       "      <th>in_lock_sequences</th>\n",
       "      <th>in_lock_sequences_id</th>\n",
       "    </tr>\n",
       "  </thead>\n",
       "  <tbody>\n",
       "    <tr>\n",
       "      <th>0</th>\n",
       "      <td>customer 5 4 9 1 8 history 6 2 9 1 warehouse 4...</td>\n",
       "      <td>1</td>\n",
       "    </tr>\n",
       "    <tr>\n",
       "      <th>1</th>\n",
       "      <td>history 6 2 9 1 warehouse 4 district 4 custome...</td>\n",
       "      <td>2</td>\n",
       "    </tr>\n",
       "    <tr>\n",
       "      <th>2</th>\n",
       "      <td>warehouse 4 district 4 customer 3 9 1 3 8 hist...</td>\n",
       "      <td>3</td>\n",
       "    </tr>\n",
       "    <tr>\n",
       "      <th>3</th>\n",
       "      <td>district 4 customer 3 9 1 3 8 history 6 2 9 1 ...</td>\n",
       "      <td>4</td>\n",
       "    </tr>\n",
       "    <tr>\n",
       "      <th>4</th>\n",
       "      <td>customer 3 9 1 3 8 history 6 2 9 1 district 5 ...</td>\n",
       "      <td>5</td>\n",
       "    </tr>\n",
       "  </tbody>\n",
       "</table>\n",
       "</div>"
      ],
      "text/plain": [
       "                                   in_lock_sequences  in_lock_sequences_id\n",
       "0  customer 5 4 9 1 8 history 6 2 9 1 warehouse 4...                     1\n",
       "1  history 6 2 9 1 warehouse 4 district 4 custome...                     2\n",
       "2  warehouse 4 district 4 customer 3 9 1 3 8 hist...                     3\n",
       "3  district 4 customer 3 9 1 3 8 history 6 2 9 1 ...                     4\n",
       "4  customer 3 9 1 3 8 history 6 2 9 1 district 5 ...                     5"
      ]
     },
     "execution_count": 48,
     "metadata": {},
     "output_type": "execute_result"
    }
   ],
   "source": [
    "in_lock_sequences.head()"
   ]
  },
  {
   "cell_type": "markdown",
   "metadata": {},
   "source": [
    "---"
   ]
  },
  {
   "cell_type": "markdown",
   "metadata": {},
   "source": [
    "## Data Sanity Checks"
   ]
  },
  {
   "cell_type": "code",
   "execution_count": 4,
   "metadata": {},
   "outputs": [
    {
     "data": {
      "text/html": [
       "<div>\n",
       "<style scoped>\n",
       "    .dataframe tbody tr th:only-of-type {\n",
       "        vertical-align: middle;\n",
       "    }\n",
       "\n",
       "    .dataframe tbody tr th {\n",
       "        vertical-align: top;\n",
       "    }\n",
       "\n",
       "    .dataframe thead th {\n",
       "        text-align: right;\n",
       "    }\n",
       "</style>\n",
       "<table border=\"1\" class=\"dataframe\">\n",
       "  <thead>\n",
       "    <tr style=\"text-align: right;\">\n",
       "      <th></th>\n",
       "      <th>in_lock_sequences_id</th>\n",
       "      <th>train_data_percent_used</th>\n",
       "      <th>epochs</th>\n",
       "      <th>batch_size</th>\n",
       "      <th>learning_rate</th>\n",
       "      <th>seq_length</th>\n",
       "      <th>test_split</th>\n",
       "      <th>val_split</th>\n",
       "      <th>vocab_size</th>\n",
       "      <th>patience</th>\n",
       "      <th>gt_pageid</th>\n",
       "      <th>pred_pageid</th>\n",
       "      <th>horizon_position</th>\n",
       "      <th>iteration</th>\n",
       "    </tr>\n",
       "  </thead>\n",
       "  <tbody>\n",
       "    <tr>\n",
       "      <th>count</th>\n",
       "      <td>8.005883e+07</td>\n",
       "      <td>80058830.0</td>\n",
       "      <td>80058830.0</td>\n",
       "      <td>80058830.0</td>\n",
       "      <td>8.005883e+07</td>\n",
       "      <td>80058830.0</td>\n",
       "      <td>8.005883e+07</td>\n",
       "      <td>80058830.0</td>\n",
       "      <td>80058830.0</td>\n",
       "      <td>80058830.0</td>\n",
       "      <td>8.005883e+07</td>\n",
       "      <td>8.004642e+07</td>\n",
       "      <td>80058830.0</td>\n",
       "      <td>8.005883e+07</td>\n",
       "    </tr>\n",
       "    <tr>\n",
       "      <th>mean</th>\n",
       "      <td>3.622722e+05</td>\n",
       "      <td>1.0</td>\n",
       "      <td>30.0</td>\n",
       "      <td>32.0</td>\n",
       "      <td>1.000000e-03</td>\n",
       "      <td>50.0</td>\n",
       "      <td>3.000000e-01</td>\n",
       "      <td>0.0</td>\n",
       "      <td>900.0</td>\n",
       "      <td>5.0</td>\n",
       "      <td>4.946564e+04</td>\n",
       "      <td>1.725425e+15</td>\n",
       "      <td>2.0</td>\n",
       "      <td>5.500000e+00</td>\n",
       "    </tr>\n",
       "    <tr>\n",
       "      <th>std</th>\n",
       "      <td>2.104680e+05</td>\n",
       "      <td>0.0</td>\n",
       "      <td>0.0</td>\n",
       "      <td>0.0</td>\n",
       "      <td>2.385245e-18</td>\n",
       "      <td>0.0</td>\n",
       "      <td>3.241851e-14</td>\n",
       "      <td>0.0</td>\n",
       "      <td>0.0</td>\n",
       "      <td>0.0</td>\n",
       "      <td>2.659063e+04</td>\n",
       "      <td>1.036102e+19</td>\n",
       "      <td>1.0</td>\n",
       "      <td>2.872281e+00</td>\n",
       "    </tr>\n",
       "    <tr>\n",
       "      <th>min</th>\n",
       "      <td>1.000000e+00</td>\n",
       "      <td>1.0</td>\n",
       "      <td>30.0</td>\n",
       "      <td>32.0</td>\n",
       "      <td>1.000000e-03</td>\n",
       "      <td>50.0</td>\n",
       "      <td>3.000000e-01</td>\n",
       "      <td>0.0</td>\n",
       "      <td>900.0</td>\n",
       "      <td>5.0</td>\n",
       "      <td>1.000000e+00</td>\n",
       "      <td>0.000000e+00</td>\n",
       "      <td>1.0</td>\n",
       "      <td>1.000000e+00</td>\n",
       "    </tr>\n",
       "    <tr>\n",
       "      <th>25%</th>\n",
       "      <td>1.803920e+05</td>\n",
       "      <td>1.0</td>\n",
       "      <td>30.0</td>\n",
       "      <td>32.0</td>\n",
       "      <td>1.000000e-03</td>\n",
       "      <td>50.0</td>\n",
       "      <td>3.000000e-01</td>\n",
       "      <td>0.0</td>\n",
       "      <td>900.0</td>\n",
       "      <td>5.0</td>\n",
       "      <td>2.741500e+04</td>\n",
       "      <td>3.857000e+03</td>\n",
       "      <td>1.0</td>\n",
       "      <td>3.000000e+00</td>\n",
       "    </tr>\n",
       "    <tr>\n",
       "      <th>50%</th>\n",
       "      <td>3.611360e+05</td>\n",
       "      <td>1.0</td>\n",
       "      <td>30.0</td>\n",
       "      <td>32.0</td>\n",
       "      <td>1.000000e-03</td>\n",
       "      <td>50.0</td>\n",
       "      <td>3.000000e-01</td>\n",
       "      <td>0.0</td>\n",
       "      <td>900.0</td>\n",
       "      <td>5.0</td>\n",
       "      <td>6.494600e+04</td>\n",
       "      <td>6.359700e+04</td>\n",
       "      <td>2.0</td>\n",
       "      <td>5.500000e+00</td>\n",
       "    </tr>\n",
       "    <tr>\n",
       "      <th>75%</th>\n",
       "      <td>5.445760e+05</td>\n",
       "      <td>1.0</td>\n",
       "      <td>30.0</td>\n",
       "      <td>32.0</td>\n",
       "      <td>1.000000e-03</td>\n",
       "      <td>50.0</td>\n",
       "      <td>3.000000e-01</td>\n",
       "      <td>0.0</td>\n",
       "      <td>900.0</td>\n",
       "      <td>5.0</td>\n",
       "      <td>6.687300e+04</td>\n",
       "      <td>6.627800e+04</td>\n",
       "      <td>3.0</td>\n",
       "      <td>8.000000e+00</td>\n",
       "    </tr>\n",
       "    <tr>\n",
       "      <th>max</th>\n",
       "      <td>7.293320e+05</td>\n",
       "      <td>1.0</td>\n",
       "      <td>30.0</td>\n",
       "      <td>32.0</td>\n",
       "      <td>1.000000e-03</td>\n",
       "      <td>50.0</td>\n",
       "      <td>3.000000e-01</td>\n",
       "      <td>0.0</td>\n",
       "      <td>900.0</td>\n",
       "      <td>5.0</td>\n",
       "      <td>9.091000e+04</td>\n",
       "      <td>6.845867e+22</td>\n",
       "      <td>4.0</td>\n",
       "      <td>1.000000e+01</td>\n",
       "    </tr>\n",
       "  </tbody>\n",
       "</table>\n",
       "</div>"
      ],
      "text/plain": [
       "       in_lock_sequences_id  train_data_percent_used      epochs  batch_size  \\\n",
       "count          8.005883e+07               80058830.0  80058830.0  80058830.0   \n",
       "mean           3.622722e+05                      1.0        30.0        32.0   \n",
       "std            2.104680e+05                      0.0         0.0         0.0   \n",
       "min            1.000000e+00                      1.0        30.0        32.0   \n",
       "25%            1.803920e+05                      1.0        30.0        32.0   \n",
       "50%            3.611360e+05                      1.0        30.0        32.0   \n",
       "75%            5.445760e+05                      1.0        30.0        32.0   \n",
       "max            7.293320e+05                      1.0        30.0        32.0   \n",
       "\n",
       "       learning_rate  seq_length    test_split   val_split  vocab_size  \\\n",
       "count   8.005883e+07  80058830.0  8.005883e+07  80058830.0  80058830.0   \n",
       "mean    1.000000e-03        50.0  3.000000e-01         0.0       900.0   \n",
       "std     2.385245e-18         0.0  3.241851e-14         0.0         0.0   \n",
       "min     1.000000e-03        50.0  3.000000e-01         0.0       900.0   \n",
       "25%     1.000000e-03        50.0  3.000000e-01         0.0       900.0   \n",
       "50%     1.000000e-03        50.0  3.000000e-01         0.0       900.0   \n",
       "75%     1.000000e-03        50.0  3.000000e-01         0.0       900.0   \n",
       "max     1.000000e-03        50.0  3.000000e-01         0.0       900.0   \n",
       "\n",
       "         patience     gt_pageid   pred_pageid  horizon_position     iteration  \n",
       "count  80058830.0  8.005883e+07  8.004642e+07        80058830.0  8.005883e+07  \n",
       "mean          5.0  4.946564e+04  1.725425e+15               2.0  5.500000e+00  \n",
       "std           0.0  2.659063e+04  1.036102e+19               1.0  2.872281e+00  \n",
       "min           5.0  1.000000e+00  0.000000e+00               1.0  1.000000e+00  \n",
       "25%           5.0  2.741500e+04  3.857000e+03               1.0  3.000000e+00  \n",
       "50%           5.0  6.494600e+04  6.359700e+04               2.0  5.500000e+00  \n",
       "75%           5.0  6.687300e+04  6.627800e+04               3.0  8.000000e+00  \n",
       "max           5.0  9.091000e+04  6.845867e+22               4.0  1.000000e+01  "
      ]
     },
     "execution_count": 4,
     "metadata": {},
     "output_type": "execute_result"
    }
   ],
   "source": [
    "predictions.describe()"
   ]
  },
  {
   "cell_type": "markdown",
   "metadata": {},
   "source": [
    "### Lets see how many groups of predicitons exist\n",
    "There should be 40, which is 10 repitions by 4 horizons"
   ]
  },
  {
   "cell_type": "code",
   "execution_count": 52,
   "metadata": {},
   "outputs": [],
   "source": [
    "unique_groups = predictions.drop(columns=['gt_pageid', 'pred_pageid', 'horizon_position', 'in_lock_sequences_id', 'gt_table', 'pred_table', 'horizon', 'unique_id']).drop_duplicates()"
   ]
  },
  {
   "cell_type": "code",
   "execution_count": 53,
   "metadata": {},
   "outputs": [
    {
     "data": {
      "text/plain": [
       "model                       1\n",
       "data                        1\n",
       "train_data_percent_used     1\n",
       "epochs                      1\n",
       "batch_size                  1\n",
       "learning_rate               1\n",
       "seq_length                  1\n",
       "test_split                  1\n",
       "val_split                   1\n",
       "vocab_size                  1\n",
       "tokenization                1\n",
       "patience                    1\n",
       "results_dir                 1\n",
       "experiment_name             1\n",
       "shuffle                     1\n",
       "add_start_end_tokens        1\n",
       "add_row_id                  1\n",
       "add_label_tokens            1\n",
       "disable_train_shuffle       1\n",
       "early_stopping              1\n",
       "remove_system_tables        1\n",
       "token_length_seq            1\n",
       "lstm_pe                     1\n",
       "naive_baseline              1\n",
       "disable_cache               1\n",
       "model_weights              40\n",
       "is_correct                  2\n",
       "dtype: int64"
      ]
     },
     "execution_count": 53,
     "metadata": {},
     "output_type": "execute_result"
    }
   ],
   "source": [
    "unique_groups.nunique()"
   ]
  },
  {
   "cell_type": "markdown",
   "metadata": {},
   "source": [
    "### Lets now check the number of rows for increasing number of horizons\n",
    "This should be equal to a multiple of the number of rows when `horizon==1` (since each horzion positions is its own row)"
   ]
  },
  {
   "cell_type": "code",
   "execution_count": 54,
   "metadata": {},
   "outputs": [
    {
     "data": {
      "text/plain": [
       "8005890"
      ]
     },
     "execution_count": 54,
     "metadata": {},
     "output_type": "execute_result"
    }
   ],
   "source": [
    "num_of_pred = predictions[predictions['horizon'] == 1].shape[0]\n",
    "num_of_pred"
   ]
  },
  {
   "cell_type": "code",
   "execution_count": 55,
   "metadata": {},
   "outputs": [
    {
     "ename": "AssertionError",
     "evalue": "('Number of predictions for horizon 4 is not correct.', 'Expected: 32023560', 'Actual: 32023520', 'Difference: 40')",
     "output_type": "error",
     "traceback": [
      "\u001b[0;31m---------------------------------------------------------------------------\u001b[0m",
      "\u001b[0;31mAssertionError\u001b[0m                            Traceback (most recent call last)",
      "Cell \u001b[0;32mIn[55], line 2\u001b[0m\n\u001b[1;32m      1\u001b[0m \u001b[38;5;28;01mfor\u001b[39;00m horizon \u001b[38;5;129;01min\u001b[39;00m predictions[\u001b[38;5;124m'\u001b[39m\u001b[38;5;124mhorizon\u001b[39m\u001b[38;5;124m'\u001b[39m]\u001b[38;5;241m.\u001b[39munique():\n\u001b[0;32m----> 2\u001b[0m     \u001b[38;5;28;01massert\u001b[39;00m num_of_pred \u001b[38;5;241m*\u001b[39m horizon \u001b[38;5;241m==\u001b[39m predictions[predictions[\u001b[38;5;124m'\u001b[39m\u001b[38;5;124mhorizon\u001b[39m\u001b[38;5;124m'\u001b[39m] \u001b[38;5;241m==\u001b[39m horizon]\u001b[38;5;241m.\u001b[39mshape[\u001b[38;5;241m0\u001b[39m], (\n\u001b[1;32m      3\u001b[0m         \u001b[38;5;124mf\u001b[39m\u001b[38;5;124m\"\u001b[39m\u001b[38;5;124mNumber of predictions for horizon \u001b[39m\u001b[38;5;132;01m{\u001b[39;00mhorizon\u001b[38;5;132;01m}\u001b[39;00m\u001b[38;5;124m is not correct.\u001b[39m\u001b[38;5;124m\"\u001b[39m,\n\u001b[1;32m      4\u001b[0m         \u001b[38;5;124mf\u001b[39m\u001b[38;5;124m\"\u001b[39m\u001b[38;5;124mExpected: \u001b[39m\u001b[38;5;132;01m{\u001b[39;00mnum_of_pred\u001b[38;5;250m \u001b[39m\u001b[38;5;241m*\u001b[39m\u001b[38;5;250m \u001b[39mhorizon\u001b[38;5;132;01m}\u001b[39;00m\u001b[38;5;124m\"\u001b[39m,\n\u001b[1;32m      5\u001b[0m         \u001b[38;5;124mf\u001b[39m\u001b[38;5;124m\"\u001b[39m\u001b[38;5;124mActual: \u001b[39m\u001b[38;5;132;01m{\u001b[39;00mpredictions[predictions[\u001b[38;5;124m'\u001b[39m\u001b[38;5;124mhorizon\u001b[39m\u001b[38;5;124m'\u001b[39m]\u001b[38;5;250m \u001b[39m\u001b[38;5;241m==\u001b[39m\u001b[38;5;250m \u001b[39mhorizon]\u001b[38;5;241m.\u001b[39mshape[\u001b[38;5;241m0\u001b[39m]\u001b[38;5;132;01m}\u001b[39;00m\u001b[38;5;124m\"\u001b[39m,\n\u001b[1;32m      6\u001b[0m         \u001b[38;5;124mf\u001b[39m\u001b[38;5;124m\"\u001b[39m\u001b[38;5;124mDifference: \u001b[39m\u001b[38;5;132;01m{\u001b[39;00mnum_of_pred\u001b[38;5;250m \u001b[39m\u001b[38;5;241m*\u001b[39m\u001b[38;5;250m \u001b[39mhorizon\u001b[38;5;250m \u001b[39m\u001b[38;5;241m-\u001b[39m\u001b[38;5;250m \u001b[39mpredictions[predictions[\u001b[38;5;124m'\u001b[39m\u001b[38;5;124mhorizon\u001b[39m\u001b[38;5;124m'\u001b[39m]\u001b[38;5;250m \u001b[39m\u001b[38;5;241m==\u001b[39m\u001b[38;5;250m \u001b[39mhorizon]\u001b[38;5;241m.\u001b[39mshape[\u001b[38;5;241m0\u001b[39m]\u001b[38;5;132;01m}\u001b[39;00m\u001b[38;5;124m\"\u001b[39m\n\u001b[1;32m      7\u001b[0m     )\n",
      "\u001b[0;31mAssertionError\u001b[0m: ('Number of predictions for horizon 4 is not correct.', 'Expected: 32023560', 'Actual: 32023520', 'Difference: 40')"
     ]
    }
   ],
   "source": [
    "for horizon in predictions['horizon'].unique():\n",
    "    assert num_of_pred * horizon == predictions[predictions['horizon'] == horizon].shape[0], (\n",
    "        f\"Number of predictions for horizon {horizon} is not correct.\",\n",
    "        f\"Expected: {num_of_pred * horizon}\",\n",
    "        f\"Actual: {predictions[predictions['horizon'] == horizon].shape[0]}\",\n",
    "        f\"Difference: {num_of_pred * horizon - predictions[predictions['horizon'] == horizon].shape[0]}\"\n",
    "    )"
   ]
  },
  {
   "cell_type": "markdown",
   "metadata": {},
   "source": [
    "While I expected this assertion to hold, there may be a side-effect of sequence creation which larger horizons that I am not accounting for.\n",
    "\n",
    "For example, depending if there is any overlap between sequence, it may account for there being less than exactly `num_of_pred * horizon`."
   ]
  },
  {
   "cell_type": "code",
   "execution_count": 56,
   "metadata": {},
   "outputs": [
    {
     "data": {
      "text/plain": [
       "model_weights\n",
       "results/fixed/exp-6-row-locks/char__transformer_20250115_155211_4a9914df-44e7-4709-b93f-2899a05761e4/model.keras    3202352\n",
       "results/fixed/exp-6-row-locks/char__transformer_20250115_164639_11d92135-a44b-4015-9a03-3e37c93283f8/model.keras    3202352\n",
       "results/fixed/exp-6-row-locks/char__transformer_20250115_173807_5849bb81-9b78-440c-a791-a0da558ef007/model.keras    3202352\n",
       "results/fixed/exp-6-row-locks/char__transformer_20250115_183129_be0f75cf-94dc-4ed3-b3af-5843eac87069/model.keras    3202352\n",
       "results/fixed/exp-6-row-locks/char__transformer_20250115_192614_f92ff2c9-4f61-464c-a2ce-8872fa2d0fdb/model.keras    3202352\n",
       "results/fixed/exp-6-row-locks/char__transformer_20250115_202048_efb07517-a3b6-42d6-87ca-ede888c20210/model.keras    3202352\n",
       "results/fixed/exp-6-row-locks/char__transformer_20250115_211559_dc0328e3-f880-49f2-a274-42326e1c06d5/model.keras    3202352\n",
       "results/fixed/exp-6-row-locks/char__transformer_20250115_220832_37086c9c-1b81-463f-b306-6beb9cac68fd/model.keras    3202352\n",
       "results/fixed/exp-6-row-locks/char__transformer_20250115_230215_682ead62-0f1f-45bb-becd-7f8b8be51528/model.keras    3202352\n",
       "results/fixed/exp-6-row-locks/char__transformer_20250115_235501_0936125e-d6cd-4e4c-9fcc-e5480483aa89/model.keras    3202352\n",
       "Name: model_weights, dtype: int64"
      ]
     },
     "execution_count": 56,
     "metadata": {},
     "output_type": "execute_result"
    }
   ],
   "source": [
    "horizon_4_unqiue = predictions[predictions['horizon'] == 4]['model_weights'].groupby(predictions['model_weights'])\n",
    "horizon_4_unqiue.count()"
   ]
  },
  {
   "cell_type": "code",
   "execution_count": 57,
   "metadata": {},
   "outputs": [
    {
     "data": {
      "text/plain": [
       "True"
      ]
     },
     "execution_count": 57,
     "metadata": {},
     "output_type": "execute_result"
    }
   ],
   "source": [
    "horizon_4_unqiue.count().sum() == 32023520"
   ]
  },
  {
   "cell_type": "markdown",
   "metadata": {},
   "source": [
    "Above looks at how many rows there are for each repition of `horizon==4`. They are all the same, so this means we have 4 less rows for each of the 10 reps.\n",
    "\n",
    "This equates to only 1 less test example (since we split by horizon position, thus 4 less rows means 1 less lock prediciton at `horizon==4`)"
   ]
  },
  {
   "cell_type": "markdown",
   "metadata": {},
   "source": [
    "### Lets look at the distribution of pageid values"
   ]
  },
  {
   "cell_type": "code",
   "execution_count": 58,
   "metadata": {},
   "outputs": [
    {
     "data": {
      "text/plain": [
       "(0.0, 6.845866623866862e+22, 1725424805245443.2, 1.0361023799303481e+19)"
      ]
     },
     "execution_count": 58,
     "metadata": {},
     "output_type": "execute_result"
    }
   ],
   "source": [
    "predictions['pred_pageid'].min(), predictions['pred_pageid'].max(), predictions['pred_pageid'].mean(), predictions['pred_pageid'].std()"
   ]
  },
  {
   "cell_type": "markdown",
   "metadata": {},
   "source": [
    "Thats a very wide range of predicted page_ids. Lets checkout the histogram."
   ]
  },
  {
   "cell_type": "code",
   "execution_count": 59,
   "metadata": {},
   "outputs": [
    {
     "data": {
      "image/png": "[encoded data removed]",
      "text/plain": [
       "<Figure size 640x480 with 1 Axes>"
      ]
     },
     "metadata": {},
     "output_type": "display_data"
    },
    {
     "data": {
      "text/plain": [
       "(8858, (80058830, 35))"
      ]
     },
     "execution_count": 59,
     "metadata": {},
     "output_type": "execute_result"
    }
   ],
   "source": [
    "max_log10 = np.log10(predictions['pred_pageid'].max())\n",
    "plt.hist(predictions['pred_pageid'], bins=np.logspace(0, max_log10, 20))\n",
    "plt.xscale('log')\n",
    "plt.title('Histogram of predicted pageids')\n",
    "plt.show()\n",
    "\n",
    "(predictions['pred_pageid'] > 10e4).sum(), predictions.shape"
   ]
  },
  {
   "cell_type": "code",
   "execution_count": 60,
   "metadata": {},
   "outputs": [
    {
     "data": {
      "image/png": "[encoded data removed]",
      "text/plain": [
       "<Figure size 640x480 with 1 Axes>"
      ]
     },
     "metadata": {},
     "output_type": "display_data"
    },
    {
     "data": {
      "text/plain": [
       "(0, (80058830, 35))"
      ]
     },
     "execution_count": 60,
     "metadata": {},
     "output_type": "execute_result"
    }
   ],
   "source": [
    "max_log10 = np.log10(predictions['gt_pageid'].max())\n",
    "plt.hist(predictions['gt_pageid'], bins=np.logspace(0, max_log10, 20))\n",
    "plt.xscale('log')\n",
    "plt.title('Ground Truth Page ID')\n",
    "plt.show()\n",
    "\n",
    "(predictions['gt_pageid'] > 10e4).sum(), predictions.shape\n"
   ]
  },
  {
   "cell_type": "markdown",
   "metadata": {},
   "source": [
    "Okay everything, looks normal. We just have a few outliers in the prediction, but the ground truth looks good."
   ]
  },
  {
   "cell_type": "markdown",
   "metadata": {},
   "source": [
    "## Global vs. Local Analysis"
   ]
  },
  {
   "cell_type": "code",
   "execution_count": 107,
   "metadata": {},
   "outputs": [],
   "source": [
    "predictions_naive = pd.read_parquet('data/exp-10/predictions.parquet')\n",
    "predictions_naive = predictions_naive[predictions_naive['data']=='data/fixed/row_locks.csv']\n",
    "predictions_naive['is_correct'] = is_correct(predictions_naive)\n",
    "predictions_naive['horizon'] = predictions_naive['horizon'].astype(str)"
   ]
  },
  {
   "cell_type": "code",
   "execution_count": 108,
   "metadata": {},
   "outputs": [
    {
     "data": {
      "text/html": [
       "<div>\n",
       "<style scoped>\n",
       "    .dataframe tbody tr th:only-of-type {\n",
       "        vertical-align: middle;\n",
       "    }\n",
       "\n",
       "    .dataframe tbody tr th {\n",
       "        vertical-align: top;\n",
       "    }\n",
       "\n",
       "    .dataframe thead th {\n",
       "        text-align: right;\n",
       "    }\n",
       "</style>\n",
       "<table border=\"1\" class=\"dataframe\">\n",
       "  <thead>\n",
       "    <tr style=\"text-align: right;\">\n",
       "      <th></th>\n",
       "      <th>in_lock_sequences_id</th>\n",
       "      <th>model</th>\n",
       "      <th>data</th>\n",
       "      <th>train_data_percent_used</th>\n",
       "      <th>epochs</th>\n",
       "      <th>batch_size</th>\n",
       "      <th>learning_rate</th>\n",
       "      <th>seq_length</th>\n",
       "      <th>test_split</th>\n",
       "      <th>val_split</th>\n",
       "      <th>...</th>\n",
       "      <th>naive_baseline</th>\n",
       "      <th>disable_cache</th>\n",
       "      <th>args_file</th>\n",
       "      <th>gt_table</th>\n",
       "      <th>gt_pageid</th>\n",
       "      <th>pred_table</th>\n",
       "      <th>pred_pageid</th>\n",
       "      <th>horizon_position</th>\n",
       "      <th>unique_id</th>\n",
       "      <th>is_correct</th>\n",
       "    </tr>\n",
       "  </thead>\n",
       "  <tbody>\n",
       "    <tr>\n",
       "      <th>462812</th>\n",
       "      <td>354300</td>\n",
       "      <td>transformer</td>\n",
       "      <td>data/fixed/row_locks.csv</td>\n",
       "      <td>1.0</td>\n",
       "      <td>30</td>\n",
       "      <td>32</td>\n",
       "      <td>0.001</td>\n",
       "      <td>50</td>\n",
       "      <td>0.3</td>\n",
       "      <td>0.0</td>\n",
       "      <td>...</td>\n",
       "      <td>True</td>\n",
       "      <td>False</td>\n",
       "      <td>None</td>\n",
       "      <td>orderline</td>\n",
       "      <td>65381.0</td>\n",
       "      <td>orderline</td>\n",
       "      <td>65381.0</td>\n",
       "      <td>1</td>\n",
       "      <td>714650c6-33d6-452d-912b-46048235c834</td>\n",
       "      <td>True</td>\n",
       "    </tr>\n",
       "    <tr>\n",
       "      <th>462813</th>\n",
       "      <td>354300</td>\n",
       "      <td>transformer</td>\n",
       "      <td>data/fixed/row_locks.csv</td>\n",
       "      <td>1.0</td>\n",
       "      <td>30</td>\n",
       "      <td>32</td>\n",
       "      <td>0.001</td>\n",
       "      <td>50</td>\n",
       "      <td>0.3</td>\n",
       "      <td>0.0</td>\n",
       "      <td>...</td>\n",
       "      <td>True</td>\n",
       "      <td>False</td>\n",
       "      <td>None</td>\n",
       "      <td>stock</td>\n",
       "      <td>2531.0</td>\n",
       "      <td>stock</td>\n",
       "      <td>2531.0</td>\n",
       "      <td>2</td>\n",
       "      <td>714650c6-33d6-452d-912b-46048235c834</td>\n",
       "      <td>True</td>\n",
       "    </tr>\n",
       "    <tr>\n",
       "      <th>462814</th>\n",
       "      <td>354300</td>\n",
       "      <td>transformer</td>\n",
       "      <td>data/fixed/row_locks.csv</td>\n",
       "      <td>1.0</td>\n",
       "      <td>30</td>\n",
       "      <td>32</td>\n",
       "      <td>0.001</td>\n",
       "      <td>50</td>\n",
       "      <td>0.3</td>\n",
       "      <td>0.0</td>\n",
       "      <td>...</td>\n",
       "      <td>True</td>\n",
       "      <td>False</td>\n",
       "      <td>None</td>\n",
       "      <td>orderline</td>\n",
       "      <td>65381.0</td>\n",
       "      <td>orderline</td>\n",
       "      <td>65381.0</td>\n",
       "      <td>3</td>\n",
       "      <td>714650c6-33d6-452d-912b-46048235c834</td>\n",
       "      <td>True</td>\n",
       "    </tr>\n",
       "    <tr>\n",
       "      <th>462815</th>\n",
       "      <td>354301</td>\n",
       "      <td>transformer</td>\n",
       "      <td>data/fixed/row_locks.csv</td>\n",
       "      <td>1.0</td>\n",
       "      <td>30</td>\n",
       "      <td>32</td>\n",
       "      <td>0.001</td>\n",
       "      <td>50</td>\n",
       "      <td>0.3</td>\n",
       "      <td>0.0</td>\n",
       "      <td>...</td>\n",
       "      <td>True</td>\n",
       "      <td>False</td>\n",
       "      <td>None</td>\n",
       "      <td>stock</td>\n",
       "      <td>2531.0</td>\n",
       "      <td>orderline</td>\n",
       "      <td>65381.0</td>\n",
       "      <td>1</td>\n",
       "      <td>3e5a7f24-7a3c-4c2a-84f0-a8e301b203ca</td>\n",
       "      <td>False</td>\n",
       "    </tr>\n",
       "    <tr>\n",
       "      <th>462816</th>\n",
       "      <td>354301</td>\n",
       "      <td>transformer</td>\n",
       "      <td>data/fixed/row_locks.csv</td>\n",
       "      <td>1.0</td>\n",
       "      <td>30</td>\n",
       "      <td>32</td>\n",
       "      <td>0.001</td>\n",
       "      <td>50</td>\n",
       "      <td>0.3</td>\n",
       "      <td>0.0</td>\n",
       "      <td>...</td>\n",
       "      <td>True</td>\n",
       "      <td>False</td>\n",
       "      <td>None</td>\n",
       "      <td>orderline</td>\n",
       "      <td>65381.0</td>\n",
       "      <td>stock</td>\n",
       "      <td>2531.0</td>\n",
       "      <td>2</td>\n",
       "      <td>3e5a7f24-7a3c-4c2a-84f0-a8e301b203ca</td>\n",
       "      <td>False</td>\n",
       "    </tr>\n",
       "  </tbody>\n",
       "</table>\n",
       "<p>5 rows × 36 columns</p>\n",
       "</div>"
      ],
      "text/plain": [
       "        in_lock_sequences_id        model                      data  \\\n",
       "462812                354300  transformer  data/fixed/row_locks.csv   \n",
       "462813                354300  transformer  data/fixed/row_locks.csv   \n",
       "462814                354300  transformer  data/fixed/row_locks.csv   \n",
       "462815                354301  transformer  data/fixed/row_locks.csv   \n",
       "462816                354301  transformer  data/fixed/row_locks.csv   \n",
       "\n",
       "        train_data_percent_used  epochs  batch_size  learning_rate  \\\n",
       "462812                      1.0      30          32          0.001   \n",
       "462813                      1.0      30          32          0.001   \n",
       "462814                      1.0      30          32          0.001   \n",
       "462815                      1.0      30          32          0.001   \n",
       "462816                      1.0      30          32          0.001   \n",
       "\n",
       "        seq_length  test_split  val_split  ...  naive_baseline disable_cache  \\\n",
       "462812          50         0.3        0.0  ...            True         False   \n",
       "462813          50         0.3        0.0  ...            True         False   \n",
       "462814          50         0.3        0.0  ...            True         False   \n",
       "462815          50         0.3        0.0  ...            True         False   \n",
       "462816          50         0.3        0.0  ...            True         False   \n",
       "\n",
       "        args_file   gt_table gt_pageid pred_table pred_pageid  \\\n",
       "462812       None  orderline   65381.0  orderline     65381.0   \n",
       "462813       None      stock    2531.0      stock      2531.0   \n",
       "462814       None  orderline   65381.0  orderline     65381.0   \n",
       "462815       None      stock    2531.0  orderline     65381.0   \n",
       "462816       None  orderline   65381.0      stock      2531.0   \n",
       "\n",
       "        horizon_position                             unique_id  is_correct  \n",
       "462812                 1  714650c6-33d6-452d-912b-46048235c834        True  \n",
       "462813                 2  714650c6-33d6-452d-912b-46048235c834        True  \n",
       "462814                 3  714650c6-33d6-452d-912b-46048235c834        True  \n",
       "462815                 1  3e5a7f24-7a3c-4c2a-84f0-a8e301b203ca       False  \n",
       "462816                 2  3e5a7f24-7a3c-4c2a-84f0-a8e301b203ca       False  \n",
       "\n",
       "[5 rows x 36 columns]"
      ]
     },
     "execution_count": 108,
     "metadata": {},
     "output_type": "execute_result"
    }
   ],
   "source": [
    "predictions_naive.head()"
   ]
  },
  {
   "cell_type": "code",
   "execution_count": 109,
   "metadata": {},
   "outputs": [
    {
     "data": {
      "text/plain": [
       "horizon\n",
       "1    0.305856\n",
       "2    0.275012\n",
       "3    0.246477\n",
       "4    0.218962\n",
       "Name: percent_correct, dtype: float64"
      ]
     },
     "execution_count": 109,
     "metadata": {},
     "output_type": "execute_result"
    }
   ],
   "source": [
    "correct_naive = predictions_naive.groupby(['horizon', 'unique_id'])['is_correct'].all().reset_index()\n",
    "percent_correct_naive = correct_naive.groupby(['horizon'])['is_correct'].mean().reset_index()\n",
    "percent_correct_naive.rename(columns={'is_correct': 'percent_correct'}, inplace=True)\n",
    "percent_correct_naive.groupby('horizon')['percent_correct'].mean()"
   ]
  },
  {
   "cell_type": "code",
   "execution_count": 7,
   "metadata": {},
   "outputs": [
    {
     "data": {
      "text/plain": [
       "horizon\n",
       "1    0.461134\n",
       "2    0.203645\n",
       "3    0.143036\n",
       "4    0.109782\n",
       "Name: percent_correct, dtype: float64"
      ]
     },
     "execution_count": 7,
     "metadata": {},
     "output_type": "execute_result"
    }
   ],
   "source": [
    "correct = predictions.groupby(['horizon', 'iteration', 'unique_id'])['is_correct'].all().reset_index()\n",
    "percent_correct = correct.groupby(['horizon', 'iteration'])['is_correct'].mean().reset_index()\n",
    "percent_correct.rename(columns={'is_correct': 'percent_correct'}, inplace=True)\n",
    "percent_correct.groupby('horizon')['percent_correct'].mean()"
   ]
  },
  {
   "cell_type": "code",
   "execution_count": 116,
   "metadata": {},
   "outputs": [
    {
     "data": {
      "image/png": "[encoded data removed]",
      "text/plain": [
       "<Figure size 800x500 with 1 Axes>"
      ]
     },
     "metadata": {},
     "output_type": "display_data"
    }
   ],
   "source": [
    "\n",
    "\n",
    "plt.figure(figsize=(8, 5))\n",
    "\n",
    "# Box plot for percent_correct\n",
    "sns.boxplot(x=\"horizon\", y=\"percent_correct\", data=percent_correct[['horizon', 'percent_correct']], color='lightblue', showfliers=True)\n",
    "\n",
    "# Scatter plot for percent_correct_naive\n",
    "sns.scatterplot(x=\"horizon\", y=\"percent_correct\", data=percent_correct_naive[['horizon', 'percent_correct']], color='red', marker='o', s=100, label='Naive')\n",
    "\n",
    "# Labels and legend\n",
    "plt.xlabel(\"Horizon\")\n",
    "plt.ylabel(\"Percent Correct\")\n",
    "plt.title(\"Global Model, Tranformer vs Naive Baseline: Accuracy vs Horizon\")\n",
    "\n",
    "box_patch = mpatches.Patch(color=\"lightblue\", alpha=0.6, label=\"Transformer\")\n",
    "scatter_patch = plt.Line2D([0], [0], marker='o', color='w', markerfacecolor='red', markersize=10, label=\"Naive Baseline\")\n",
    "plt.legend(handles=[box_patch, scatter_patch])\n",
    "\n",
    "plt.savefig('plots/global_transformer_vs_naive_baseline_accuracy_vs_horizon.png')"
   ]
  },
  {
   "cell_type": "markdown",
   "metadata": {},
   "source": [
    "### Per-table Analysis"
   ]
  },
  {
   "cell_type": "code",
   "execution_count": 80,
   "metadata": {},
   "outputs": [
    {
     "data": {
      "text/html": [
       "<div>\n",
       "<style scoped>\n",
       "    .dataframe tbody tr th:only-of-type {\n",
       "        vertical-align: middle;\n",
       "    }\n",
       "\n",
       "    .dataframe tbody tr th {\n",
       "        vertical-align: top;\n",
       "    }\n",
       "\n",
       "    .dataframe thead th {\n",
       "        text-align: right;\n",
       "    }\n",
       "</style>\n",
       "<table border=\"1\" class=\"dataframe\">\n",
       "  <thead>\n",
       "    <tr style=\"text-align: right;\">\n",
       "      <th>horizon</th>\n",
       "      <th>1</th>\n",
       "      <th>2</th>\n",
       "      <th>3</th>\n",
       "      <th>4</th>\n",
       "    </tr>\n",
       "    <tr>\n",
       "      <th>gt_table</th>\n",
       "      <th></th>\n",
       "      <th></th>\n",
       "      <th></th>\n",
       "      <th></th>\n",
       "    </tr>\n",
       "  </thead>\n",
       "  <tbody>\n",
       "    <tr>\n",
       "      <th>customer</th>\n",
       "      <td>0.000155</td>\n",
       "      <td>0.000063</td>\n",
       "      <td>0.000060</td>\n",
       "      <td>0.000029</td>\n",
       "    </tr>\n",
       "    <tr>\n",
       "      <th>district</th>\n",
       "      <td>0.304831</td>\n",
       "      <td>0.198696</td>\n",
       "      <td>0.154803</td>\n",
       "      <td>0.129603</td>\n",
       "    </tr>\n",
       "    <tr>\n",
       "      <th>history</th>\n",
       "      <td>0.013870</td>\n",
       "      <td>0.171304</td>\n",
       "      <td>0.068230</td>\n",
       "      <td>0.046577</td>\n",
       "    </tr>\n",
       "    <tr>\n",
       "      <th>neworder</th>\n",
       "      <td>0.003461</td>\n",
       "      <td>0.001325</td>\n",
       "      <td>0.000635</td>\n",
       "      <td>0.000502</td>\n",
       "    </tr>\n",
       "    <tr>\n",
       "      <th>orderline</th>\n",
       "      <td>0.830073</td>\n",
       "      <td>0.785889</td>\n",
       "      <td>0.705931</td>\n",
       "      <td>0.515893</td>\n",
       "    </tr>\n",
       "    <tr>\n",
       "      <th>orders</th>\n",
       "      <td>0.000610</td>\n",
       "      <td>0.000528</td>\n",
       "      <td>0.000272</td>\n",
       "      <td>0.000195</td>\n",
       "    </tr>\n",
       "    <tr>\n",
       "      <th>stock</th>\n",
       "      <td>0.000018</td>\n",
       "      <td>0.000020</td>\n",
       "      <td>0.000008</td>\n",
       "      <td>0.000002</td>\n",
       "    </tr>\n",
       "    <tr>\n",
       "      <th>warehouse</th>\n",
       "      <td>0.278883</td>\n",
       "      <td>0.553775</td>\n",
       "      <td>0.368910</td>\n",
       "      <td>0.202675</td>\n",
       "    </tr>\n",
       "  </tbody>\n",
       "</table>\n",
       "</div>"
      ],
      "text/plain": [
       "horizon           1         2         3         4\n",
       "gt_table                                         \n",
       "customer   0.000155  0.000063  0.000060  0.000029\n",
       "district   0.304831  0.198696  0.154803  0.129603\n",
       "history    0.013870  0.171304  0.068230  0.046577\n",
       "neworder   0.003461  0.001325  0.000635  0.000502\n",
       "orderline  0.830073  0.785889  0.705931  0.515893\n",
       "orders     0.000610  0.000528  0.000272  0.000195\n",
       "stock      0.000018  0.000020  0.000008  0.000002\n",
       "warehouse  0.278883  0.553775  0.368910  0.202675"
      ]
     },
     "execution_count": 80,
     "metadata": {},
     "output_type": "execute_result"
    }
   ],
   "source": [
    "correct_per_table = predictions.groupby(['horizon', 'gt_table', 'iteration', 'unique_id'])['is_correct'].all().reset_index()\n",
    "percent_correct_per_table = correct_per_table.groupby(['horizon', 'iteration', 'gt_table'])['is_correct'].mean().reset_index()\n",
    "percent_correct_per_table.rename(columns={'is_correct': 'percent_correct'}, inplace=True)\n",
    "percent_correct_per_table.groupby(['horizon', 'gt_table'])['percent_correct'].mean().reset_index().pivot(index='gt_table', columns='horizon', values='percent_correct').sort_values(by='gt_table')"
   ]
  },
  {
   "cell_type": "code",
   "execution_count": 97,
   "metadata": {},
   "outputs": [
    {
     "data": {
      "image/png": "[encoded data removed]",
      "text/plain": [
       "<Figure size 1000x600 with 1 Axes>"
      ]
     },
     "metadata": {},
     "output_type": "display_data"
    }
   ],
   "source": [
    "# Create the plot\n",
    "plt.figure(figsize=(10, 6))\n",
    "sns.boxplot(x=\"gt_table\", y=\"percent_correct\", hue=\"horizon\", data=percent_correct_per_table, palette=\"Set2\", showfliers=False)\n",
    "\n",
    "# Labels and title\n",
    "plt.xlabel(\"Horizon\")\n",
    "plt.ylabel(\"Percent Correct\")\n",
    "plt.title(\"Global Model, Transformer: Accuracy vs GT Table per Horizon\")\n",
    "plt.legend(title=\"Horizon\", bbox_to_anchor=(1.05, 1), loc=\"upper left\")\n",
    "\n",
    "# Show the plot\n",
    "plt.show()"
   ]
  },
  {
   "cell_type": "markdown",
   "metadata": {},
   "source": [
    "### Now lets see the Local models\n",
    "I.e., the models trained on each dataset table seperately"
   ]
  },
  {
   "cell_type": "code",
   "execution_count": 86,
   "metadata": {},
   "outputs": [],
   "source": [
    "predictions_row_sep = pd.read_parquet('data/row_sep/exp-11-row-locks/predictions.parquet')\n",
    "predictions_row_sep['is_correct'] = is_correct(predictions_row_sep)\n",
    "#predictions_row_sep['iteration'] = iteration(predictions_row_sep)\n",
    "predictions_row_sep['horizon'] = predictions_row_sep['horizon'].astype(str)"
   ]
  },
  {
   "cell_type": "code",
   "execution_count": null,
   "metadata": {},
   "outputs": [],
   "source": []
  },
  {
   "cell_type": "code",
   "execution_count": 130,
   "metadata": {},
   "outputs": [],
   "source": [
    "pred_unique = predictions.groupby('horizon').nunique()"
   ]
  },
  {
   "cell_type": "code",
   "execution_count": 131,
   "metadata": {},
   "outputs": [],
   "source": [
    "row_unique = predictions_row_sep.groupby('horizon').nunique()"
   ]
  },
  {
   "cell_type": "code",
   "execution_count": null,
   "metadata": {},
   "outputs": [],
   "source": []
  },
  {
   "cell_type": "code",
   "execution_count": 94,
   "metadata": {},
   "outputs": [
    {
     "data": {
      "text/html": [
       "<div>\n",
       "<style scoped>\n",
       "    .dataframe tbody tr th:only-of-type {\n",
       "        vertical-align: middle;\n",
       "    }\n",
       "\n",
       "    .dataframe tbody tr th {\n",
       "        vertical-align: top;\n",
       "    }\n",
       "\n",
       "    .dataframe thead th {\n",
       "        text-align: right;\n",
       "    }\n",
       "</style>\n",
       "<table border=\"1\" class=\"dataframe\">\n",
       "  <thead>\n",
       "    <tr style=\"text-align: right;\">\n",
       "      <th>horizon</th>\n",
       "      <th>1</th>\n",
       "      <th>2</th>\n",
       "      <th>3</th>\n",
       "      <th>4</th>\n",
       "    </tr>\n",
       "    <tr>\n",
       "      <th>gt_table</th>\n",
       "      <th></th>\n",
       "      <th></th>\n",
       "      <th></th>\n",
       "      <th></th>\n",
       "    </tr>\n",
       "  </thead>\n",
       "  <tbody>\n",
       "    <tr>\n",
       "      <th>customer</th>\n",
       "      <td>0.000244</td>\n",
       "      <td>0.000000</td>\n",
       "      <td>0.000000</td>\n",
       "      <td>0.000000</td>\n",
       "    </tr>\n",
       "    <tr>\n",
       "      <th>district</th>\n",
       "      <td>0.404493</td>\n",
       "      <td>0.163215</td>\n",
       "      <td>0.065943</td>\n",
       "      <td>0.025996</td>\n",
       "    </tr>\n",
       "    <tr>\n",
       "      <th>history</th>\n",
       "      <td>0.981766</td>\n",
       "      <td>0.963526</td>\n",
       "      <td>0.942366</td>\n",
       "      <td>0.923383</td>\n",
       "    </tr>\n",
       "    <tr>\n",
       "      <th>neworder</th>\n",
       "      <td>0.297527</td>\n",
       "      <td>0.188917</td>\n",
       "      <td>0.125400</td>\n",
       "      <td>0.074189</td>\n",
       "    </tr>\n",
       "    <tr>\n",
       "      <th>orderline</th>\n",
       "      <td>0.915226</td>\n",
       "      <td>0.839657</td>\n",
       "      <td>0.766529</td>\n",
       "      <td>0.693711</td>\n",
       "    </tr>\n",
       "    <tr>\n",
       "      <th>orders</th>\n",
       "      <td>0.067593</td>\n",
       "      <td>0.067644</td>\n",
       "      <td>0.060917</td>\n",
       "      <td>0.036229</td>\n",
       "    </tr>\n",
       "    <tr>\n",
       "      <th>stock</th>\n",
       "      <td>0.000022</td>\n",
       "      <td>0.000000</td>\n",
       "      <td>0.000000</td>\n",
       "      <td>0.000000</td>\n",
       "    </tr>\n",
       "    <tr>\n",
       "      <th>warehouse</th>\n",
       "      <td>1.000000</td>\n",
       "      <td>1.000000</td>\n",
       "      <td>1.000000</td>\n",
       "      <td>1.000000</td>\n",
       "    </tr>\n",
       "  </tbody>\n",
       "</table>\n",
       "</div>"
      ],
      "text/plain": [
       "horizon           1         2         3         4\n",
       "gt_table                                         \n",
       "customer   0.000244  0.000000  0.000000  0.000000\n",
       "district   0.404493  0.163215  0.065943  0.025996\n",
       "history    0.981766  0.963526  0.942366  0.923383\n",
       "neworder   0.297527  0.188917  0.125400  0.074189\n",
       "orderline  0.915226  0.839657  0.766529  0.693711\n",
       "orders     0.067593  0.067644  0.060917  0.036229\n",
       "stock      0.000022  0.000000  0.000000  0.000000\n",
       "warehouse  1.000000  1.000000  1.000000  1.000000"
      ]
     },
     "execution_count": 94,
     "metadata": {},
     "output_type": "execute_result"
    }
   ],
   "source": [
    "row_sep_correct_per_table = predictions_row_sep.groupby(['horizon', 'gt_table', 'unique_id'])['is_correct'].all().reset_index()\n",
    "percent_row_sep_correct_per_table = row_sep_correct_per_table.groupby(['horizon', 'gt_table'])['is_correct'].mean().reset_index()\n",
    "percent_row_sep_correct_per_table.rename(columns={'is_correct': 'percent_correct'}, inplace=True)\n",
    "percent_row_sep_correct_per_table.groupby(['horizon', 'gt_table'])['percent_correct'].mean().reset_index().pivot(index='gt_table', columns='horizon', values='percent_correct').sort_values(by='gt_table')"
   ]
  },
  {
   "cell_type": "code",
   "execution_count": 124,
   "metadata": {},
   "outputs": [
    {
     "data": {
      "image/png": "[encoded data removed]",
      "text/plain": [
       "<Figure size 1000x600 with 1 Axes>"
      ]
     },
     "metadata": {},
     "output_type": "display_data"
    }
   ],
   "source": [
    "# Create the plot\n",
    "plt.figure(figsize=(10, 6))\n",
    "sns.barplot(x=\"gt_table\", y=\"percent_correct\", hue=\"horizon\", data=percent_row_sep_correct_per_table, palette=\"Set2\")\n",
    "\n",
    "# Labels and title\n",
    "plt.xlabel(\"GT Table\")\n",
    "plt.ylabel(\"Percent Correct\")\n",
    "plt.title(\"Local Model, Transformer: Accuracy vs GT Table per Horizon\")\n",
    "plt.legend(title=\"Horizon\", bbox_to_anchor=(1.05, 1), loc=\"upper left\")\n",
    "\n",
    "# Show the plot\n",
    "plt.show()"
   ]
  },
  {
   "cell_type": "markdown",
   "metadata": {},
   "source": [
    "### Lets look at the Naive approach"
   ]
  },
  {
   "cell_type": "code",
   "execution_count": 102,
   "metadata": {},
   "outputs": [],
   "source": [
    "predictions_row_sep_naive = pd.read_parquet('data/row_sep/exp-11-row-locks-naive/predictions.parquet')\n",
    "predictions_row_sep_naive['is_correct'] = is_correct(predictions_row_sep_naive)\n",
    "#predictions_row_sep['iteration'] = iteration(predictions_row_sep)\n",
    "predictions_row_sep_naive['horizon'] = predictions_row_sep_naive['horizon'].astype(str)"
   ]
  },
  {
   "cell_type": "code",
   "execution_count": 103,
   "metadata": {},
   "outputs": [
    {
     "data": {
      "text/html": [
       "<div>\n",
       "<style scoped>\n",
       "    .dataframe tbody tr th:only-of-type {\n",
       "        vertical-align: middle;\n",
       "    }\n",
       "\n",
       "    .dataframe tbody tr th {\n",
       "        vertical-align: top;\n",
       "    }\n",
       "\n",
       "    .dataframe thead th {\n",
       "        text-align: right;\n",
       "    }\n",
       "</style>\n",
       "<table border=\"1\" class=\"dataframe\">\n",
       "  <thead>\n",
       "    <tr style=\"text-align: right;\">\n",
       "      <th>horizon</th>\n",
       "      <th>1</th>\n",
       "      <th>2</th>\n",
       "      <th>3</th>\n",
       "      <th>4</th>\n",
       "    </tr>\n",
       "    <tr>\n",
       "      <th>gt_table</th>\n",
       "      <th></th>\n",
       "      <th></th>\n",
       "      <th></th>\n",
       "      <th></th>\n",
       "    </tr>\n",
       "  </thead>\n",
       "  <tbody>\n",
       "    <tr>\n",
       "      <th>customer</th>\n",
       "      <td>0.018787</td>\n",
       "      <td>0.018505</td>\n",
       "      <td>0.018505</td>\n",
       "      <td>0.018505</td>\n",
       "    </tr>\n",
       "    <tr>\n",
       "      <th>district</th>\n",
       "      <td>0.338382</td>\n",
       "      <td>0.118139</td>\n",
       "      <td>0.041524</td>\n",
       "      <td>0.014663</td>\n",
       "    </tr>\n",
       "    <tr>\n",
       "      <th>history</th>\n",
       "      <td>0.963540</td>\n",
       "      <td>0.945310</td>\n",
       "      <td>0.927080</td>\n",
       "      <td>0.908845</td>\n",
       "    </tr>\n",
       "    <tr>\n",
       "      <th>neworder</th>\n",
       "      <td>0.364113</td>\n",
       "      <td>0.265379</td>\n",
       "      <td>0.208267</td>\n",
       "      <td>0.169668</td>\n",
       "    </tr>\n",
       "    <tr>\n",
       "      <th>orderline</th>\n",
       "      <td>0.905012</td>\n",
       "      <td>0.831108</td>\n",
       "      <td>0.759403</td>\n",
       "      <td>0.689996</td>\n",
       "    </tr>\n",
       "    <tr>\n",
       "      <th>orders</th>\n",
       "      <td>0.465968</td>\n",
       "      <td>0.409541</td>\n",
       "      <td>0.368027</td>\n",
       "      <td>0.331756</td>\n",
       "    </tr>\n",
       "    <tr>\n",
       "      <th>stock</th>\n",
       "      <td>0.007967</td>\n",
       "      <td>0.007952</td>\n",
       "      <td>0.007952</td>\n",
       "      <td>0.007952</td>\n",
       "    </tr>\n",
       "    <tr>\n",
       "      <th>warehouse</th>\n",
       "      <td>1.000000</td>\n",
       "      <td>1.000000</td>\n",
       "      <td>1.000000</td>\n",
       "      <td>1.000000</td>\n",
       "    </tr>\n",
       "  </tbody>\n",
       "</table>\n",
       "</div>"
      ],
      "text/plain": [
       "horizon           1         2         3         4\n",
       "gt_table                                         \n",
       "customer   0.018787  0.018505  0.018505  0.018505\n",
       "district   0.338382  0.118139  0.041524  0.014663\n",
       "history    0.963540  0.945310  0.927080  0.908845\n",
       "neworder   0.364113  0.265379  0.208267  0.169668\n",
       "orderline  0.905012  0.831108  0.759403  0.689996\n",
       "orders     0.465968  0.409541  0.368027  0.331756\n",
       "stock      0.007967  0.007952  0.007952  0.007952\n",
       "warehouse  1.000000  1.000000  1.000000  1.000000"
      ]
     },
     "execution_count": 103,
     "metadata": {},
     "output_type": "execute_result"
    }
   ],
   "source": [
    "row_sep_naive_correct_per_table = predictions_row_sep_naive.groupby(['horizon', 'gt_table', 'unique_id'])['is_correct'].all().reset_index()\n",
    "percent_row_sep_naive_correct_per_table = row_sep_naive_correct_per_table.groupby(['horizon', 'gt_table'])['is_correct'].mean().reset_index()\n",
    "percent_row_sep_naive_correct_per_table.rename(columns={'is_correct': 'percent_correct'}, inplace=True)\n",
    "percent_row_sep_naive_correct_per_table.groupby(['horizon', 'gt_table'])['percent_correct'].mean().reset_index().pivot(index='gt_table', columns='horizon', values='percent_correct').sort_values(by='gt_table')"
   ]
  },
  {
   "cell_type": "code",
   "execution_count": 114,
   "metadata": {},
   "outputs": [
    {
     "data": {
      "image/png": "[encoded data removed]",
      "text/plain": [
       "<Figure size 1000x600 with 1 Axes>"
      ]
     },
     "metadata": {},
     "output_type": "display_data"
    }
   ],
   "source": [
    "# Create the plot\n",
    "plt.figure(figsize=(10, 6))\n",
    "sns.barplot(x=\"gt_table\", y=\"percent_correct\", hue=\"horizon\", data=percent_row_sep_naive_correct_per_table, palette=\"Set2\")\n",
    "\n",
    "# Labels and title\n",
    "plt.xlabel(\"Horizon\")\n",
    "plt.ylabel(\"Percent Correct\")\n",
    "plt.title(\"Local Model, Naive: Accuracy vs Horizon per GT Table\")\n",
    "plt.legend(title=\"Horizon\", bbox_to_anchor=(1.05, 1), loc=\"upper left\")\n",
    "\n",
    "# Show the plot\n",
    "plt.show()"
   ]
  },
  {
   "cell_type": "code",
   "execution_count": 117,
   "metadata": {},
   "outputs": [],
   "source": [
    "predictions_row_id = pd.read_parquet('data/row_sep/exp-11-row-locks-row_id/predictions.parquet')\n",
    "predictions_row_id['is_correct'] = is_correct(predictions_row_id)\n",
    "predictions_row_id['horizon'] = predictions_row_id['horizon'].astype(str)"
   ]
  },
  {
   "cell_type": "code",
   "execution_count": 119,
   "metadata": {},
   "outputs": [],
   "source": [
    "test_1 = predictions_row_id.head()"
   ]
  },
  {
   "cell_type": "code",
   "execution_count": 120,
   "metadata": {},
   "outputs": [
    {
     "data": {
      "text/html": [
       "<div>\n",
       "<style scoped>\n",
       "    .dataframe tbody tr th:only-of-type {\n",
       "        vertical-align: middle;\n",
       "    }\n",
       "\n",
       "    .dataframe tbody tr th {\n",
       "        vertical-align: top;\n",
       "    }\n",
       "\n",
       "    .dataframe thead th {\n",
       "        text-align: right;\n",
       "    }\n",
       "</style>\n",
       "<table border=\"1\" class=\"dataframe\">\n",
       "  <thead>\n",
       "    <tr style=\"text-align: right;\">\n",
       "      <th>horizon</th>\n",
       "      <th>1</th>\n",
       "      <th>2</th>\n",
       "      <th>3</th>\n",
       "      <th>4</th>\n",
       "    </tr>\n",
       "    <tr>\n",
       "      <th>gt_table</th>\n",
       "      <th></th>\n",
       "      <th></th>\n",
       "      <th></th>\n",
       "      <th></th>\n",
       "    </tr>\n",
       "  </thead>\n",
       "  <tbody>\n",
       "    <tr>\n",
       "      <th>customer</th>\n",
       "      <td>0.000234</td>\n",
       "      <td>0.000000</td>\n",
       "      <td>0.000000</td>\n",
       "      <td>0.000000</td>\n",
       "    </tr>\n",
       "    <tr>\n",
       "      <th>district</th>\n",
       "      <td>0.408659</td>\n",
       "      <td>0.164134</td>\n",
       "      <td>0.066672</td>\n",
       "      <td>0.026653</td>\n",
       "    </tr>\n",
       "    <tr>\n",
       "      <th>history</th>\n",
       "      <td>0.791927</td>\n",
       "      <td>0.629691</td>\n",
       "      <td>0.622813</td>\n",
       "      <td>0.553911</td>\n",
       "    </tr>\n",
       "    <tr>\n",
       "      <th>neworder</th>\n",
       "      <td>0.291207</td>\n",
       "      <td>0.184052</td>\n",
       "      <td>0.122631</td>\n",
       "      <td>0.078909</td>\n",
       "    </tr>\n",
       "    <tr>\n",
       "      <th>orderline</th>\n",
       "      <td>0.923475</td>\n",
       "      <td>NaN</td>\n",
       "      <td>NaN</td>\n",
       "      <td>NaN</td>\n",
       "    </tr>\n",
       "    <tr>\n",
       "      <th>orders</th>\n",
       "      <td>0.033641</td>\n",
       "      <td>0.022730</td>\n",
       "      <td>0.024751</td>\n",
       "      <td>0.014871</td>\n",
       "    </tr>\n",
       "    <tr>\n",
       "      <th>stock</th>\n",
       "      <td>0.000013</td>\n",
       "      <td>0.000000</td>\n",
       "      <td>0.000000</td>\n",
       "      <td>0.000000</td>\n",
       "    </tr>\n",
       "    <tr>\n",
       "      <th>warehouse</th>\n",
       "      <td>1.000000</td>\n",
       "      <td>1.000000</td>\n",
       "      <td>1.000000</td>\n",
       "      <td>1.000000</td>\n",
       "    </tr>\n",
       "  </tbody>\n",
       "</table>\n",
       "</div>"
      ],
      "text/plain": [
       "horizon           1         2         3         4\n",
       "gt_table                                         \n",
       "customer   0.000234  0.000000  0.000000  0.000000\n",
       "district   0.408659  0.164134  0.066672  0.026653\n",
       "history    0.791927  0.629691  0.622813  0.553911\n",
       "neworder   0.291207  0.184052  0.122631  0.078909\n",
       "orderline  0.923475       NaN       NaN       NaN\n",
       "orders     0.033641  0.022730  0.024751  0.014871\n",
       "stock      0.000013  0.000000  0.000000  0.000000\n",
       "warehouse  1.000000  1.000000  1.000000  1.000000"
      ]
     },
     "execution_count": 120,
     "metadata": {},
     "output_type": "execute_result"
    }
   ],
   "source": [
    "row_id_correct_per_table = predictions_row_id.groupby(['horizon', 'gt_table', 'unique_id'])['is_correct'].all().reset_index()\n",
    "percent_row_id_correct_per_table = row_id_correct_per_table.groupby(['horizon', 'gt_table'])['is_correct'].mean().reset_index()\n",
    "percent_row_id_correct_per_table.rename(columns={'is_correct': 'percent_correct'}, inplace=True)\n",
    "percent_row_id_correct_per_table.groupby(['horizon', 'gt_table'])['percent_correct'].mean().reset_index().pivot(index='gt_table', columns='horizon', values='percent_correct').sort_values(by='gt_table')"
   ]
  },
  {
   "cell_type": "code",
   "execution_count": 121,
   "metadata": {},
   "outputs": [
    {
     "data": {
      "image/png": "[encoded data removed]",
      "text/plain": [
       "<Figure size 1000x600 with 1 Axes>"
      ]
     },
     "metadata": {},
     "output_type": "display_data"
    }
   ],
   "source": [
    "# Create the plot\n",
    "plt.figure(figsize=(10, 6))\n",
    "sns.barplot(x=\"gt_table\", y=\"percent_correct\", hue=\"horizon\", data=percent_row_id_correct_per_table, palette=\"Set2\")\n",
    "\n",
    "# Labels and title\n",
    "plt.xlabel(\"Horizon\")\n",
    "plt.ylabel(\"Percent Correct\")\n",
    "plt.title(\"Local Model, Transformer, Row ID: Accuracy vs Horizon per GT Table\")\n",
    "plt.legend(title=\"Horizon\", bbox_to_anchor=(1.05, 1), loc=\"upper left\")\n",
    "\n",
    "# Show the plot\n",
    "plt.show()"
   ]
  },
  {
   "cell_type": "code",
   "execution_count": null,
   "metadata": {},
   "outputs": [],
   "source": []
  }
 ],
 "metadata": {
  "kernelspec": {
   "display_name": ".venv",
   "language": "python",
   "name": "python3"
  },
  "language_info": {
   "codemirror_mode": {
    "name": "ipython",
    "version": 3
   },
   "file_extension": ".py",
   "mimetype": "text/x-python",
   "name": "python",
   "nbconvert_exporter": "python",
   "pygments_lexer": "ipython3",
   "version": "3.10.16"
  }
 },
 "nbformat": 4,
 "nbformat_minor": 2
}
